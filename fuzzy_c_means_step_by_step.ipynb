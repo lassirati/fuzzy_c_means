{
 "cells": [
  {
   "cell_type": "code",
   "execution_count": 1,
   "metadata": {},
   "outputs": [],
   "source": [
    "#fuzzy c-means"
   ]
  },
  {
   "cell_type": "code",
   "execution_count": 2,
   "metadata": {},
   "outputs": [],
   "source": [
    "#importanto as bibliotecas\n",
    "import pandas as pd\n",
    "import matplotlib.pyplot as plt"
   ]
  },
  {
   "cell_type": "code",
   "execution_count": 3,
   "metadata": {},
   "outputs": [
    {
     "data": {
      "text/html": [
       "<div>\n",
       "<style scoped>\n",
       "    .dataframe tbody tr th:only-of-type {\n",
       "        vertical-align: middle;\n",
       "    }\n",
       "\n",
       "    .dataframe tbody tr th {\n",
       "        vertical-align: top;\n",
       "    }\n",
       "\n",
       "    .dataframe thead th {\n",
       "        text-align: right;\n",
       "    }\n",
       "</style>\n",
       "<table border=\"1\" class=\"dataframe\">\n",
       "  <thead>\n",
       "    <tr style=\"text-align: right;\">\n",
       "      <th></th>\n",
       "      <th>x</th>\n",
       "      <th>y</th>\n",
       "    </tr>\n",
       "  </thead>\n",
       "  <tbody>\n",
       "    <tr>\n",
       "      <th>0</th>\n",
       "      <td>1.0</td>\n",
       "      <td>3.0</td>\n",
       "    </tr>\n",
       "    <tr>\n",
       "      <th>1</th>\n",
       "      <td>1.5</td>\n",
       "      <td>3.2</td>\n",
       "    </tr>\n",
       "    <tr>\n",
       "      <th>2</th>\n",
       "      <td>1.3</td>\n",
       "      <td>2.8</td>\n",
       "    </tr>\n",
       "    <tr>\n",
       "      <th>3</th>\n",
       "      <td>3.0</td>\n",
       "      <td>1.0</td>\n",
       "    </tr>\n",
       "  </tbody>\n",
       "</table>\n",
       "</div>"
      ],
      "text/plain": [
       "     x    y\n",
       "0  1.0  3.0\n",
       "1  1.5  3.2\n",
       "2  1.3  2.8\n",
       "3  3.0  1.0"
      ]
     },
     "execution_count": 3,
     "metadata": {},
     "output_type": "execute_result"
    }
   ],
   "source": [
    "# conjunto de dados\n",
    "data = {'x': [1, 1.5, 1.3, 3], 'y': [3, 3.2, 2.8, 1]}\n",
    "data = pd.DataFrame.from_dict(data)\n",
    "data"
   ]
  },
  {
   "cell_type": "code",
   "execution_count": 4,
   "metadata": {},
   "outputs": [
    {
     "data": {
      "image/png": "[encoded data removed]",
      "text/plain": [
       "<Figure size 432x288 with 1 Axes>"
      ]
     },
     "metadata": {
      "needs_background": "light"
     },
     "output_type": "display_data"
    }
   ],
   "source": [
    "# visualizando\n",
    "for i in range(0,len(data)):\n",
    "    plt.plot(data['x'][i], data['y'][i], 'o', color='black', markersize=10)"
   ]
  },
  {
   "cell_type": "code",
   "execution_count": 5,
   "metadata": {},
   "outputs": [],
   "source": [
    "# parametros\n",
    "c = 2 #num clusters\n",
    "m = 2 #parametro fuzzy"
   ]
  },
  {
   "cell_type": "code",
   "execution_count": 6,
   "metadata": {},
   "outputs": [],
   "source": [
    "### Matrix fuzzy inicial\n",
    "\n",
    "# como sao dois clusters tem 2 linhas\n",
    "# como sao 4 pontos, tem 4 colunas\n",
    "\n",
    "# Essa matriz da um \"palpite\" inicial sobre qual grupo um determinado elemento faz parte\n",
    "# nesse exemplo o primeiro ponto (1.0, 3.0), segundo esse palpite, tem 100% de estar no \n",
    "# grupo 1 e 0% de estar no grupo 2\n",
    "\n",
    "U_0 = [[1, 1, 1, 0], [0, 0, 0, 1]]\n",
    "\n",
    "# ponto 1 (1.0 e 3.0), 100% de chance de estar no grupo 1 e 0% de estar no grupo 2\n",
    "\n",
    "# U_0 = [(1),1,1,0\n",
    "#        (0),0,0,1]\n",
    "\n",
    "# a questão aqui é que o fuzzy permite um elemento estar em \"dois grupos ao mesmo tempo\", bastando \n",
    "# totalizar 1 unidade. Ao invés de ser 1 e 0 poderia ser 0.8 e 0.2"
   ]
  },
  {
   "cell_type": "code",
   "execution_count": 36,
   "metadata": {},
   "outputs": [
    {
     "data": {
      "text/plain": [
       "[[0.08615786293989426, 0.1034733039879841, 0.07569459387901893, 1.0],\n",
       " [0.9138421370601058, 0.896526696012016, 0.9243054061209811, 0.0]]"
      ]
     },
     "execution_count": 36,
     "metadata": {},
     "output_type": "execute_result"
    }
   ],
   "source": [
    "U_0"
   ]
  },
  {
   "cell_type": "markdown",
   "metadata": {},
   "source": [
    "## $V_{(i,j)} = \\frac{\\sum_{i=1}^{n} U_{j,i}^{m} \\times x_{j,i} }{\\sum_{i=1}^{n} U_{j,i}^{m}}  $"
   ]
  },
  {
   "cell_type": "code",
   "execution_count": 8,
   "metadata": {},
   "outputs": [
    {
     "name": "stdout",
     "output_type": "stream",
     "text": [
      "[[1.2666666666666666, 3.0], [3.0, 1.0]]\n"
     ]
    }
   ],
   "source": [
    "## calculo do centroide dos cluesters\n",
    "\n",
    "# calculo especial pois leva em conta a matriz de probabilidade e parametro fuzzy\n",
    "# m aqui vale 2, poderia valer mais ou menos\n",
    "\n",
    "# V = SUM U_i^m * X / SUM U_i^m\n",
    "# V = SUM U_i^m * Y / SUM U_i^m\n",
    "\n",
    "# centroide 1:\n",
    "# V = (1)^2 *1 + (1)^2 *1.5 + (1)^2 *1.3 + (0)^2 *3 / ( (1)^2 + (1)^2 + (1)^2 + (0)^2 ) <- pontos X aplicados linha 1110\n",
    "# V = (1)^2 *3 + (1)^2 *3.2 + (1)^2 *2.8 + (0)^2 *1 / ( (1)^2 + (1)^2 + (1)^2 + (0)^2 ) <- pontos Y aplicados linha 1110\n",
    "# se m fosse por ex 1.25 --> V = (1)^1.25 *1 + (1)^1.25 *1.5 _ ...\n",
    "\n",
    "\n",
    "# centroide 2:\n",
    "# V = (0)^2 *1 + (0)^2 *1.5 + (0)^2 *1.3 + (1)^2 *3 / ( (0)^2 + (0)^2 + (0)^2 + (1)^2 ) <- pontos X aplicados linha 0001\n",
    "# V = (0)^2 *3 + (0)^2 *3.2 + (0)^2 *2.8 + (1)^2 *1 / ( (0)^2 + (0)^2 + (0)^2 + (1)^2 ) <- pontos Y aplicados linha 0001\n",
    "\n",
    "centroides = []\n",
    "for i in range(0,2):\n",
    "    numerador_x = 0\n",
    "    denominador_x = 0\n",
    "    numerador_y = 0\n",
    "    denominador_y = 0    \n",
    "    for j in range(0,4):\n",
    "        numerador_x = numerador_x + ( (U_0[i][j])**m * data['x'][j] )\n",
    "        denominador_x = denominador_x + ( (U_0[i][j])**m )\n",
    "\n",
    "        \n",
    "        numerador_y = numerador_y + ( (U_0[i][j])**m * data['y'][j] )\n",
    "        denominador_y = denominador_y + ( (U_0[i][j])**m )  \n",
    "\n",
    "\n",
    "\n",
    "    centroides.append([numerador_x/denominador_x, numerador_y/denominador_y])\n",
    "\n",
    "print(centroides)"
   ]
  },
  {
   "cell_type": "code",
   "execution_count": 9,
   "metadata": {},
   "outputs": [
    {
     "data": {
      "image/png": "[encoded data removed]",
      "text/plain": [
       "<Figure size 432x288 with 1 Axes>"
      ]
     },
     "metadata": {
      "needs_background": "light"
     },
     "output_type": "display_data"
    }
   ],
   "source": [
    "# apresentando os novos centroides\n",
    "for i in range(0,len(data)):\n",
    "    plt.plot(data['x'][i], data['y'][i], 'o', color='black', markersize=10)\n",
    "    plt.plot(centroides[0][0], centroides[0][1], 'x', color='blue', markersize=22)\n",
    "    plt.plot(centroides[1][0], centroides[1][1], 'x', color='red', markersize=22)    "
   ]
  },
  {
   "cell_type": "code",
   "execution_count": 10,
   "metadata": {},
   "outputs": [
    {
     "data": {
      "image/png": "[encoded data removed]",
      "text/plain": [
       "<Figure size 432x288 with 1 Axes>"
      ]
     },
     "metadata": {
      "needs_background": "light"
     },
     "output_type": "display_data"
    }
   ],
   "source": [
    "# clusterizando por dist euclidiana\n",
    "for i in range(0,len(data)):\n",
    "    dist_p1 = ( (data['x'][i]-centroides[0][0])**2 + (data['y'][i]-centroides[0][1])**2 )**0.5\n",
    "    dist_p2 = ( (data['x'][i]-centroides[1][0])**2 + (data['y'][i]-centroides[1][1])**2 )**0.5    \n",
    "    if dist_p1 <= dist_p2:\n",
    "        plt.plot(data['x'][i], data['y'][i], 'o', color='blue', markersize=10)\n",
    "    else:\n",
    "        plt.plot(data['x'][i], data['y'][i], 'o', color='red', markersize=10)\n",
    "    plt.plot(centroides[0][0], centroides[0][1], 'x', color='blue', markersize=22)\n",
    "    plt.plot(centroides[1][0], centroides[1][1], 'x', color='red', markersize=22)   "
   ]
  },
  {
   "cell_type": "code",
   "execution_count": 11,
   "metadata": {},
   "outputs": [],
   "source": [
    "## calcular a distancia dos pontos para cada centro novo explicitamente"
   ]
  },
  {
   "cell_type": "code",
   "execution_count": 12,
   "metadata": {},
   "outputs": [],
   "source": [
    "#d11 = SQRT( (1-1.26)^2 + (3-3)^2   ) = 0.26\n",
    "\n",
    "distancias_1 = []\n",
    "distancias_2 = []\n",
    "\n",
    "for i in range(0,4):\n",
    "    valor1 = ((data['x'][i] - centroides[0][0])**2 +  (data['y'][i] - centroides[0][1])**2  )**0.5\n",
    "    valor2 = ((data['x'][i] - centroides[1][0])**2 +  (data['y'][i] - centroides[1][1])**2  )**0.5\n",
    "    distancias_1.append(valor1)\n",
    "    distancias_2.append(valor2)\n"
   ]
  },
  {
   "cell_type": "code",
   "execution_count": 13,
   "metadata": {},
   "outputs": [
    {
     "data": {
      "text/plain": [
       "[0.2666666666666666,\n",
       " 0.30731814857642975,\n",
       " 0.20275875100994084,\n",
       " 2.6465910988372277]"
      ]
     },
     "execution_count": 13,
     "metadata": {},
     "output_type": "execute_result"
    }
   ],
   "source": [
    "# pontos em azul, conferir na imagem\n",
    "distancias_1"
   ]
  },
  {
   "cell_type": "code",
   "execution_count": 14,
   "metadata": {},
   "outputs": [
    {
     "data": {
      "text/plain": [
       "[2.8284271247461903, 2.6627053911388696, 2.475883680627989, 0.0]"
      ]
     },
     "execution_count": 14,
     "metadata": {},
     "output_type": "execute_result"
    }
   ],
   "source": [
    "# pontos em vermelho, conferir na imagem\n",
    "distancias_2"
   ]
  },
  {
   "cell_type": "markdown",
   "metadata": {},
   "source": [
    "### $U_{j,i} = \\left[ \\sum_{i=1}^{k} \\frac{d_{i,k}^{(m-1)}}{d_{j,k}^{(m-1)}} \\right]^{-1}$"
   ]
  },
  {
   "cell_type": "code",
   "execution_count": 15,
   "metadata": {},
   "outputs": [
    {
     "name": "stderr",
     "output_type": "stream",
     "text": [
      "/opt/anaconda3/lib/python3.7/site-packages/ipykernel_launcher.py:15: RuntimeWarning: divide by zero encountered in double_scalars\n",
      "  from ipykernel import kernelapp as app\n"
     ]
    },
    {
     "data": {
      "text/plain": [
       "[[0.08615786293989426, 0.1034733039879841, 0.07569459387901893, 1.0],\n",
       " [0, 0, 0, 0]]"
      ]
     },
     "execution_count": 15,
     "metadata": {},
     "output_type": "execute_result"
    }
   ],
   "source": [
    "# gerando nova matriz de probabilidade (atualizada)\n",
    "\n",
    "#criei uma matriz vazia de probabilidades, vou preencher com as probabilidades novas\n",
    "U_1 = [[0, 0, 0, 0], [0, 0, 0, 0]]\n",
    "\n",
    "# probabilidade 1 (linha 1 da matriz) do ponto 1\n",
    "# [ (dist_1[0] / dist_1[0])^(1-m) + (dist_1[0] / dist_2[0])^(1-m) ] ** -1\n",
    "# probabilidade 1 (linha 1 da matriz) do ponto 2\n",
    "# [ (dist_1[1] / dist_1[1])^(1-m) + (dist_1[1] / dist_2[1])^(1-m) ] ** -1\n",
    "# ...\n",
    "\n",
    "\n",
    "\n",
    "for i in range(0,4):\n",
    "    conta = ((1)**(1-m) + (distancias_1[i]/distancias_2[i])**(1-m))**-1\n",
    "    U_1[0][i] = conta\n",
    "    \n",
    "U_1"
   ]
  },
  {
   "cell_type": "code",
   "execution_count": 16,
   "metadata": {},
   "outputs": [
    {
     "data": {
      "text/plain": [
       "[[0.08615786293989426, 0.1034733039879841, 0.07569459387901893, 1.0],\n",
       " [0.9138421370601058, 0.896526696012016, 0.9243054061209811, 0.0]]"
      ]
     },
     "execution_count": 16,
     "metadata": {},
     "output_type": "execute_result"
    }
   ],
   "source": [
    "# primeira linha pronta\n",
    "# pra segunda linha eu poderia somente inverter os indices da conta acima, entretanto lembremos que a segunda linha\n",
    "# é o complemento de 1 unidade da segunda, entao mais simpleificadamente\n",
    "\n",
    "for i in range(0,4):\n",
    "    U_1[1][i] = 1 - U_1[0][i]\n",
    "    \n",
    "U_1    "
   ]
  },
  {
   "cell_type": "code",
   "execution_count": 17,
   "metadata": {},
   "outputs": [
    {
     "name": "stdout",
     "output_type": "stream",
     "text": [
      "0.9138421370601058\n",
      "0.896526696012016\n",
      "0.9243054061209811\n",
      "0.0\n"
     ]
    },
    {
     "name": "stderr",
     "output_type": "stream",
     "text": [
      "/opt/anaconda3/lib/python3.7/site-packages/ipykernel_launcher.py:3: RuntimeWarning: divide by zero encountered in double_scalars\n",
      "  This is separate from the ipykernel package so we can avoid doing imports until\n"
     ]
    }
   ],
   "source": [
    "## provando que daria a mesma coisa invertendo indices\n",
    "for i in range(0,4):\n",
    "    conta = ((1)**(1-m) + (distancias_2[i]/distancias_1[i])**(1-m))**-1\n",
    "    print(conta)"
   ]
  },
  {
   "cell_type": "code",
   "execution_count": 18,
   "metadata": {},
   "outputs": [],
   "source": [
    "#############################\n",
    "#guardando centroides antigos, pois novos serao calculados"
   ]
  },
  {
   "cell_type": "code",
   "execution_count": 19,
   "metadata": {},
   "outputs": [],
   "source": [
    "centroides_rodada_anterior = centroides\n",
    "\n",
    "#aproveitando o nome da variaval pra matriz\n",
    "U_0 = U_1"
   ]
  },
  {
   "cell_type": "code",
   "execution_count": 20,
   "metadata": {},
   "outputs": [
    {
     "name": "stdout",
     "output_type": "stream",
     "text": [
      "[[2.9603003338316536, 1.047579335030739], [1.2639900841654057, 2.9959425474273247]]\n"
     ]
    }
   ],
   "source": [
    "## calculo dos NOVOS centroides dos cluesters, ja usando a matriz nova\n",
    "\n",
    "# V = SUM U_i^2 * X / SUM U_i^2\n",
    "\n",
    "# V = (1)*1 + (1)*1.5 + (1)*1.3 + (0)*3 / (1+1+1+0)\n",
    "# V = (1)*3 + (1)*3.2 + (1)*2.8 + (0)*1 / (1+1+1+0)\n",
    "\n",
    "\n",
    "centroides = []\n",
    "for i in range(0,2):\n",
    "    numerador_x = 0\n",
    "    denominador_x = 0\n",
    "    numerador_y = 0\n",
    "    denominador_y = 0    \n",
    "    for j in range(0,4):\n",
    "        numerador_x = numerador_x + ( (U_0[i][j])**m * data['x'][j] )\n",
    "        denominador_x = denominador_x + ( (U_0[i][j])**m )\n",
    "\n",
    "        \n",
    "        numerador_y = numerador_y + ( (U_0[i][j])**m * data['y'][j] )\n",
    "        denominador_y = denominador_y + ( (U_0[i][j])**m )  \n",
    "\n",
    "\n",
    "\n",
    "    centroides.append([numerador_x/denominador_x, numerador_y/denominador_y])\n",
    "\n",
    "print(centroides)"
   ]
  },
  {
   "cell_type": "code",
   "execution_count": 21,
   "metadata": {},
   "outputs": [
    {
     "data": {
      "image/png": "[encoded data removed]",
      "text/plain": [
       "<Figure size 432x288 with 1 Axes>"
      ]
     },
     "metadata": {
      "needs_background": "light"
     },
     "output_type": "display_data"
    }
   ],
   "source": [
    "#plotando os novos centroides, o agrupamento e os centroides da rodada antiga (verdes) para comparacao\n",
    "\n",
    "for i in range(0,len(data)):\n",
    "    dist_p1 = ( (data['x'][i]-centroides[0][0])**2 + (data['y'][i]-centroides[0][1])**2 )**0.5\n",
    "    dist_p2 = ( (data['x'][i]-centroides[1][0])**2 + (data['y'][i]-centroides[1][1])**2 )**0.5    \n",
    "    if dist_p1 <= dist_p2:\n",
    "        plt.plot(data['x'][i], data['y'][i], 'o', color='blue', markersize=10)\n",
    "    else:\n",
    "        plt.plot(data['x'][i], data['y'][i], 'o', color='red', markersize=10)\n",
    "    plt.plot(centroides[0][0], centroides[0][1], 'x', color='blue', markersize=22)\n",
    "    plt.plot(centroides[1][0], centroides[1][1], 'x', color='red', markersize=22)  \n",
    "    plt.plot(centroides_rodada_anterior[0][0], centroides_rodada_anterior[0][1], 'D', color='green', markersize=4)\n",
    "    plt.plot(centroides_rodada_anterior[1][0], centroides_rodada_anterior[1][1], 'D', color='green', markersize=4)      "
   ]
  },
  {
   "cell_type": "code",
   "execution_count": 22,
   "metadata": {},
   "outputs": [
    {
     "data": {
      "text/plain": [
       "0.0011456337884574452"
      ]
     },
     "execution_count": 22,
     "metadata": {},
     "output_type": "execute_result"
    }
   ],
   "source": [
    "# criterio de parada, por ex os centroides pararem de se movimentar\n",
    "# aqui somei as coordenadas dos centroides novos, a dos antigos e subtrai\n",
    "# se convergir IDEALMENTE subtrcao seria NULA\n",
    "\n",
    "soma_centroides_anteriores = (centroides_rodada_anterior[0][0] + centroides_rodada_anterior[0][1] + centroides_rodada_anterior[1][0] + centroides_rodada_anterior[1][1])\n",
    "soma_centroides = (centroides[0][0] + centroides[0][1] + centroides[1][0] + centroides[1][1])\n",
    "\n",
    "subtracao = abs(soma_centroides_anteriores - soma_centroides)\n",
    "subtracao"
   ]
  },
  {
   "cell_type": "code",
   "execution_count": 23,
   "metadata": {},
   "outputs": [],
   "source": [
    "# indo pra mais uma rodada\n",
    "\n",
    "centroides_rodada_anterior = centroides"
   ]
  },
  {
   "cell_type": "code",
   "execution_count": 24,
   "metadata": {},
   "outputs": [
    {
     "name": "stdout",
     "output_type": "stream",
     "text": [
      "[2.9603003338316536, 1.2639900841654057] [1.047579335030739, 2.9959425474273247]\n"
     ]
    }
   ],
   "source": [
    "## calculo do centroide dos cluesters\n",
    "\n",
    "# V = SUM U_i^2 * X / SUM U_i^2\n",
    "\n",
    "# V = (1)*1 + (1)*1.5 + (1)*1.3 + (0)*3 / (1+1+1+0)\n",
    "# V = (1)*3 + (1)*3.2 + (1)*2.8 + (0)*1 / (1+1+1+0)\n",
    "\n",
    "V_x = []\n",
    "V_y = []\n",
    "for i in range(0,2):\n",
    "    numerador_x = 0\n",
    "    denominador_x = 0\n",
    "    numerador_y = 0\n",
    "    denominador_y = 0    \n",
    "    for j in range(0,4):\n",
    "        numerador_x = numerador_x + ( (U_0[i][j])**2 * data['x'][j] )\n",
    "        denominador_x = denominador_x + ( (U_0[i][j])**2 )\n",
    "        \n",
    "        numerador_y = numerador_y + ( (U_0[i][j])**2 * data['y'][j] )\n",
    "        denominador_y = denominador_y + ( (U_0[i][j])**2 )        \n",
    "        \n",
    "    V_x.append(numerador_x/denominador_x)\n",
    "    V_y.append(numerador_y/denominador_y)    \n",
    "    \n",
    "print(V_x, V_y)"
   ]
  },
  {
   "cell_type": "code",
   "execution_count": 25,
   "metadata": {},
   "outputs": [
    {
     "data": {
      "text/plain": [
       "0.0"
      ]
     },
     "execution_count": 25,
     "metadata": {},
     "output_type": "execute_result"
    }
   ],
   "source": [
    "#subtracao, criterio de parada\n",
    "soma_centroides_anteriores = (centroides_rodada_anterior[0][0] + centroides_rodada_anterior[0][1] + centroides_rodada_anterior[1][0] + centroides_rodada_anterior[1][1])\n",
    "soma_centroides = (centroides[0][0] + centroides[0][1] + centroides[1][0] + centroides[1][1])\n",
    "\n",
    "subtracao = abs(soma_centroides_anteriores - soma_centroides)\n",
    "subtracao"
   ]
  },
  {
   "cell_type": "code",
   "execution_count": 26,
   "metadata": {},
   "outputs": [],
   "source": [
    "###########\n",
    "# USANDO um LIB pronta!\n",
    "############"
   ]
  },
  {
   "cell_type": "code",
   "execution_count": 27,
   "metadata": {},
   "outputs": [],
   "source": [
    "from fcmeans import FCM\n",
    "import numpy as np"
   ]
  },
  {
   "cell_type": "code",
   "execution_count": 28,
   "metadata": {},
   "outputs": [],
   "source": [
    "X = data.values"
   ]
  },
  {
   "cell_type": "code",
   "execution_count": 29,
   "metadata": {},
   "outputs": [
    {
     "name": "stderr",
     "output_type": "stream",
     "text": [
      "WARNING:absl:No GPU/TPU found, falling back to CPU. (Set TF_CPP_MIN_LOG_LEVEL=0 and rerun for more info.)\n"
     ]
    }
   ],
   "source": [
    "fcm = FCM(n_clusters=2)\n",
    "fcm.fit(X)"
   ]
  },
  {
   "cell_type": "code",
   "execution_count": 30,
   "metadata": {},
   "outputs": [],
   "source": [
    "# outputs\n",
    "fcm_centers = fcm.centers\n",
    "fcm_labels = fcm.predict(X)"
   ]
  },
  {
   "cell_type": "code",
   "execution_count": 31,
   "metadata": {},
   "outputs": [
    {
     "data": {
      "text/plain": [
       "DeviceArray([[2.9995089, 1.0006185],\n",
       "             [1.266014 , 2.999108 ]], dtype=float32)"
      ]
     },
     "execution_count": 31,
     "metadata": {},
     "output_type": "execute_result"
    }
   ],
   "source": [
    "fcm_centers"
   ]
  },
  {
   "cell_type": "code",
   "execution_count": 32,
   "metadata": {},
   "outputs": [
    {
     "data": {
      "text/plain": [
       "DeviceArray([1, 1, 1, 0], dtype=int32)"
      ]
     },
     "execution_count": 32,
     "metadata": {},
     "output_type": "execute_result"
    }
   ],
   "source": [
    "fcm_labels"
   ]
  },
  {
   "cell_type": "code",
   "execution_count": 33,
   "metadata": {},
   "outputs": [],
   "source": [
    "lista_cores = []\n",
    "for i in range(0,len(fcm_labels)):\n",
    "    leitura = int(fcm_labels[i])\n",
    "    if leitura == 1:\n",
    "        lista_cores.append('blue')\n",
    "    else:\n",
    "        lista_cores.append('red')"
   ]
  },
  {
   "cell_type": "code",
   "execution_count": 34,
   "metadata": {},
   "outputs": [
    {
     "data": {
      "text/plain": [
       "<matplotlib.collections.PathCollection at 0x1a2e85cf10>"
      ]
     },
     "execution_count": 34,
     "metadata": {},
     "output_type": "execute_result"
    },
    {
     "data": {
      "image/png": "[encoded data removed]",
      "text/plain": [
       "<Figure size 432x288 with 1 Axes>"
      ]
     },
     "metadata": {
      "needs_background": "light"
     },
     "output_type": "display_data"
    }
   ],
   "source": [
    "plt.scatter(fcm_centers[:,0], fcm_centers[:,1], marker=\"+\", s=500, c='black')\n",
    "plt.scatter(X[:,0], X[:,1], c=lista_cores)"
   ]
  },
  {
   "cell_type": "code",
   "execution_count": null,
   "metadata": {},
   "outputs": [],
   "source": []
  }
 ],
 "metadata": {
  "kernelspec": {
   "display_name": "Python 3",
   "language": "python",
   "name": "python3"
  },
  "language_info": {
   "codemirror_mode": {
    "name": "ipython",
    "version": 3
   },
   "file_extension": ".py",
   "mimetype": "text/x-python",
   "name": "python",
   "nbconvert_exporter": "python",
   "pygments_lexer": "ipython3",
   "version": "3.7.6"
  }
 },
 "nbformat": 4,
 "nbformat_minor": 4
}
